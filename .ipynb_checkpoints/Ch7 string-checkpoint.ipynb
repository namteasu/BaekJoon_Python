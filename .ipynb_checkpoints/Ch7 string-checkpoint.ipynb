{
 "cells": [
  {
   "cell_type": "markdown",
   "id": "6992373d",
   "metadata": {},
   "source": [
    "# 1. 아스키 코드"
   ]
  },
  {
   "cell_type": "code",
   "execution_count": 15,
   "id": "01495fa5",
   "metadata": {},
   "outputs": [
    {
     "name": "stdout",
     "output_type": "stream",
     "text": [
      "a\n",
      "97\n"
     ]
    }
   ],
   "source": [
    "print(ord(input()))"
   ]
  },
  {
   "cell_type": "code",
   "execution_count": 16,
   "id": "f9aeff72",
   "metadata": {},
   "outputs": [
    {
     "name": "stdout",
     "output_type": "stream",
     "text": [
      "z\n",
      "122\n"
     ]
    }
   ],
   "source": [
    "print(ord(input()))"
   ]
  },
  {
   "cell_type": "code",
   "execution_count": 54,
   "id": "28e334a7",
   "metadata": {},
   "outputs": [
    {
     "name": "stdout",
     "output_type": "stream",
     "text": [
      "A\n",
      "65\n"
     ]
    }
   ],
   "source": [
    "print(ord(input()))"
   ]
  },
  {
   "cell_type": "code",
   "execution_count": 55,
   "id": "7ca1c114",
   "metadata": {},
   "outputs": [
    {
     "name": "stdout",
     "output_type": "stream",
     "text": [
      "Z\n",
      "90\n"
     ]
    }
   ],
   "source": [
    "print(ord(input()))"
   ]
  },
  {
   "cell_type": "markdown",
   "id": "b679c40f",
   "metadata": {},
   "source": [
    "# 2. 숫자의 합"
   ]
  },
  {
   "cell_type": "code",
   "execution_count": 14,
   "id": "d45ee66a",
   "metadata": {},
   "outputs": [
    {
     "name": "stdout",
     "output_type": "stream",
     "text": [
      "1\n",
      "1\n",
      "1\n"
     ]
    }
   ],
   "source": [
    "n = input()\n",
    "n_str = map(int, input())\n",
    "print(sum(n_str))"
   ]
  },
  {
   "cell_type": "markdown",
   "id": "14818791",
   "metadata": {},
   "source": [
    "# 3. 알파벳 찾기"
   ]
  },
  {
   "cell_type": "code",
   "execution_count": 34,
   "id": "1e378ca6",
   "metadata": {},
   "outputs": [
    {
     "name": "stdout",
     "output_type": "stream",
     "text": [
      "baekjoon\n",
      "1 0 -1 -1 2 -1 -1 -1 -1 4 3 -1 -1 7 5 -1 -1 -1 -1 -1 -1 -1 -1 -1 -1 -1 "
     ]
    }
   ],
   "source": [
    "word = input()\n",
    "\n",
    "atoz = dict({})\n",
    "for alphabet in range(97, 123):#ascii code\n",
    "    atoz[alphabet] = -1\n",
    "\n",
    "for idx, alphabet in enumerate(word):\n",
    "    if atoz[ord(alphabet)] == -1:\n",
    "        atoz[ord(alphabet)] = idx\n",
    "\n",
    "for i in list(atoz.values()):\n",
    "    print(i, end = ' ')\n",
    "      "
   ]
  },
  {
   "cell_type": "code",
   "execution_count": 20,
   "id": "fa23b9b9",
   "metadata": {},
   "outputs": [
    {
     "data": {
      "text/plain": [
       "{}"
      ]
     },
     "execution_count": 20,
     "metadata": {},
     "output_type": "execute_result"
    }
   ],
   "source": [
    "atoz"
   ]
  },
  {
   "cell_type": "markdown",
   "id": "4c7a3141",
   "metadata": {},
   "source": [
    "# 4. 문자열 반복"
   ]
  },
  {
   "cell_type": "code",
   "execution_count": 53,
   "id": "d29d2677",
   "metadata": {},
   "outputs": [
    {
     "name": "stdout",
     "output_type": "stream",
     "text": [
      "1\n",
      "3 JIJFI*JIJ//I\\\\\n",
      "JJJIIIJJJFFFIII***JJJIIIJJJ//////III\\\\\\\\\\\\\n"
     ]
    }
   ],
   "source": [
    "n = int(input())\n",
    "\n",
    "for _ in range(n):\n",
    "    result = ''\n",
    "    n_iter, word = input().split()\n",
    "    for alpha_num in word:\n",
    "        result += (alpha_num * int(n_iter))\n",
    "        #print(alpha_num * int(n_iter), end = '')\n",
    "    print(result)\n"
   ]
  },
  {
   "cell_type": "markdown",
   "id": "42576461",
   "metadata": {},
   "source": [
    "# 5. 단어공부"
   ]
  },
  {
   "cell_type": "code",
   "execution_count": 24,
   "id": "599f657c",
   "metadata": {},
   "outputs": [
    {
     "name": "stdout",
     "output_type": "stream",
     "text": [
      "Mississipi\n",
      "?\n"
     ]
    }
   ],
   "source": [
    "word = input().upper()\n",
    "freq_list = [0 for _ in range(65,91)] #ascii code of capital alphabets\n",
    "\n",
    "for alphabet in word:\n",
    "    freq_list[ord(alphabet) - 65] += 1\n",
    "\n",
    "mx = max(freq_list)\n",
    "if freq_list.count(mx) == 1:\n",
    "    print(chr(freq_list.index(mx)+65))\n",
    "else:\n",
    "    print('?')\n"
   ]
  },
  {
   "cell_type": "markdown",
   "id": "b157444b",
   "metadata": {},
   "source": [
    "# 6. 단어의 개수"
   ]
  },
  {
   "cell_type": "code",
   "execution_count": 28,
   "id": "506b537e",
   "metadata": {},
   "outputs": [
    {
     "name": "stdout",
     "output_type": "stream",
     "text": [
      "Teullinika Teullyeotzi \n",
      "2\n"
     ]
    }
   ],
   "source": [
    "print(len(input().split()))"
   ]
  },
  {
   "cell_type": "markdown",
   "id": "cbcf96eb",
   "metadata": {},
   "source": [
    "# 7. 상수"
   ]
  },
  {
   "cell_type": "code",
   "execution_count": 41,
   "id": "7a554a31",
   "metadata": {},
   "outputs": [
    {
     "name": "stdout",
     "output_type": "stream",
     "text": [
      "734 893\n",
      "437"
     ]
    }
   ],
   "source": [
    "a, b = input().split(' ')\n",
    "ans = 0\n",
    "\n",
    "for i in range(2,-1,-1): #three digits\n",
    "    if int(a[i]) > int(b[i]):\n",
    "        ans = a\n",
    "        break\n",
    "    elif int(a[i]) < int(b[i]):\n",
    "        ans = b\n",
    "        break\n",
    "\n",
    "for i in range(2,-1,-1):\n",
    "    print(ans[i], end = '')"
   ]
  },
  {
   "cell_type": "markdown",
   "id": "bc8d4400",
   "metadata": {},
   "source": [
    "# 8. 다이얼"
   ]
  },
  {
   "cell_type": "code",
   "execution_count": 53,
   "id": "3ef94496",
   "metadata": {},
   "outputs": [
    {
     "name": "stdout",
     "output_type": "stream",
     "text": [
      "UNUCICZZ\n",
      "56\n"
     ]
    }
   ],
   "source": [
    "word_to_num = list(map(ord, input())) #trnasform to ascii\n",
    "time = 0\n",
    "\n",
    "for num in word_to_num:\n",
    "    if num <= 82:   #until 'R'\n",
    "        time += ((num-65)//3 + 3)\n",
    "    elif num <= 89: #from 'S' to 'Y'\n",
    "        time += ((num-66)//3 + 3)\n",
    "    else:           #'Z'\n",
    "        time += 10\n",
    "print(time)"
   ]
  },
  {
   "cell_type": "markdown",
   "id": "1f54ff76",
   "metadata": {},
   "source": [
    "타인의 코드"
   ]
  },
  {
   "cell_type": "code",
   "execution_count": 54,
   "id": "0221074b",
   "metadata": {},
   "outputs": [
    {
     "name": "stdout",
     "output_type": "stream",
     "text": [
      "ASS\n",
      "19\n"
     ]
    }
   ],
   "source": [
    "dial = ['ABC','DEF','GHI','JKL','MNO','PQRS','TUV','WXYZ']\n",
    "a = input()\n",
    "count = 0\n",
    "for i in range(len(a)):\n",
    "    for j in dial:\n",
    "        if a[i] in j:\n",
    "            count += dial.index(j)+3\n",
    "print(count)"
   ]
  },
  {
   "cell_type": "markdown",
   "id": "dde3d7ed",
   "metadata": {},
   "source": [
    "# 9. 크로아티아 알파벳"
   ]
  },
  {
   "cell_type": "code",
   "execution_count": 67,
   "id": "88d0a76b",
   "metadata": {},
   "outputs": [
    {
     "name": "stdout",
     "output_type": "stream",
     "text": [
      "dz=ak\n",
      "3\n"
     ]
    }
   ],
   "source": [
    "crt_list = ['c=','c-','dz=','d-','lj','nj','s=','z=']\n",
    "\n",
    "word = input()\n",
    "ans = len(word)\n",
    "\n",
    "for alphabet in crt_list:\n",
    "    ans -= (word.count(alphabet)) * (len(alphabet)-1)\n",
    "\n",
    "ans += word.count('dz=')#adjust overcount due to'dz=' and 'z='\n",
    "print(ans)\n"
   ]
  },
  {
   "cell_type": "markdown",
   "id": "5dd276c9",
   "metadata": {},
   "source": [
    "타인의 코드"
   ]
  },
  {
   "cell_type": "code",
   "execution_count": 68,
   "id": "c150651e",
   "metadata": {},
   "outputs": [
    {
     "name": "stdout",
     "output_type": "stream",
     "text": [
      "dz=ak\n",
      "3\n"
     ]
    }
   ],
   "source": [
    "croatia = ['c=', 'c-', 'dz=', 'd-', 'lj', 'nj', 's=', 'z=']\n",
    "word = input()\n",
    "\n",
    "for i in croatia :\n",
    "    word = word.replace(i, '*')\n",
    "print(len(word))"
   ]
  },
  {
   "cell_type": "markdown",
   "id": "b65aaca5",
   "metadata": {},
   "source": [
    "# 10. 그룹단어 체커"
   ]
  },
  {
   "cell_type": "code",
   "execution_count": 78,
   "id": "31a4fc7c",
   "metadata": {},
   "outputs": [
    {
     "name": "stdout",
     "output_type": "stream",
     "text": [
      "2\n",
      "abcabc\n",
      "aaaa\n",
      "1\n"
     ]
    }
   ],
   "source": [
    "def grp_checker(word):\n",
    "    if len(word) == 1:\n",
    "        return True\n",
    "    \n",
    "    cnt = word[0]\n",
    "    for i in range(len(word)):\n",
    "        if word[i] != word[i+1]: #alphabet stream changes\n",
    "            if word[i+1] in cnt: \n",
    "                return False\n",
    "            else:\n",
    "                cnt += word[i+1] #records the old stream\n",
    "        if i == (len(word)-2):\n",
    "            break\n",
    "    return True\n",
    "\n",
    "n = int(input())\n",
    "ans = 0\n",
    "for _ in range(n):\n",
    "    ans += grp_checker(input())\n",
    "print(ans)"
   ]
  }
 ],
 "metadata": {
  "kernelspec": {
   "display_name": "Python 3",
   "language": "python",
   "name": "python3"
  },
  "language_info": {
   "codemirror_mode": {
    "name": "ipython",
    "version": 3
   },
   "file_extension": ".py",
   "mimetype": "text/x-python",
   "name": "python",
   "nbconvert_exporter": "python",
   "pygments_lexer": "ipython3",
   "version": "3.7.4"
  }
 },
 "nbformat": 4,
 "nbformat_minor": 5
}
