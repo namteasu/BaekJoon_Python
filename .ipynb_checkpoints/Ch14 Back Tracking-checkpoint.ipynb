{
 "cells": [
  {
   "cell_type": "markdown",
   "id": "5fbe84d8",
   "metadata": {},
   "source": [
    "# 1. N과 M (1)\n",
    "memory: 29452KB, time 248ms"
   ]
  },
  {
   "cell_type": "code",
   "execution_count": 31,
   "id": "91ff89bd",
   "metadata": {},
   "outputs": [
    {
     "name": "stdout",
     "output_type": "stream",
     "text": [
      "3 1\n",
      "1\n",
      "2\n",
      "3\n"
     ]
    }
   ],
   "source": [
    "def print_seq(rest_list, ex_list, depth):\n",
    "    if depth > 1:\n",
    "        for num in rest_list:\n",
    "            num_idx = rest_list.index(num)\n",
    "            ex_list.append(num)\n",
    "            print_seq(rest_list[:num_idx] + rest_list[num_idx + 1:], ex_list, depth - 1)\n",
    "            ex_list.remove(num)\n",
    "    else:\n",
    "        for rest_num in rest_list:\n",
    "            for ex_num in ex_list:\n",
    "                print(ex_num, end = ' ')\n",
    "            print(rest_num)\n",
    "\n",
    "n, m = map(int, input().split())\n",
    "\n",
    "num_list = [i + 1 for i in range(n)]\n",
    "ex_list = []      \n",
    "print_seq(num_list, ex_list, m)"
   ]
  },
  {
   "cell_type": "markdown",
   "id": "663401fc",
   "metadata": {},
   "source": [
    "### seongwoo0513's code\n",
    "memory: 29200KB, time: 156ms"
   ]
  },
  {
   "cell_type": "code",
   "execution_count": 39,
   "id": "f8fc4cd1",
   "metadata": {},
   "outputs": [
    {
     "name": "stdout",
     "output_type": "stream",
     "text": [
      "3 2\n",
      "1 2\n",
      "1 3\n",
      "2 1\n",
      "2 3\n",
      "3 1\n",
      "3 2\n"
     ]
    }
   ],
   "source": [
    "from itertools import permutations\n",
    "N, M = map(int, input().split())\n",
    "P = permutations(range(1, N+1), M)  # iter(tuple)\n",
    "for i in P:\n",
    "    print(' '.join(map(str, i)))"
   ]
  },
  {
   "cell_type": "markdown",
   "id": "1b177a6f",
   "metadata": {},
   "source": [
    "### wwss0457's code\n",
    "memory: 33548KB, time: 108ms"
   ]
  },
  {
   "cell_type": "code",
   "execution_count": 49,
   "id": "446b5f67",
   "metadata": {},
   "outputs": [
    {
     "name": "stdout",
     "output_type": "stream",
     "text": [
      "4 3\n",
      "1 2 3\n",
      "1 2 4\n",
      "1 3 2\n",
      "1 3 4\n",
      "1 4 2\n",
      "1 4 3\n",
      "2 1 3\n",
      "2 1 4\n",
      "2 3 1\n",
      "2 3 4\n",
      "2 4 1\n",
      "2 4 3\n",
      "3 1 2\n",
      "3 1 4\n",
      "3 2 1\n",
      "3 2 4\n",
      "3 4 1\n",
      "3 4 2\n",
      "4 1 2\n",
      "4 1 3\n",
      "4 2 1\n",
      "4 2 3\n",
      "4 3 1\n",
      "4 3 2\n"
     ]
    }
   ],
   "source": [
    "from itertools import permutations\n",
    "\n",
    "n,m = map(int,input().split())\n",
    "\n",
    "for i in list((permutations([str(i+1) for i in range(n)],m))) :\n",
    "    print(\" \".join(i))"
   ]
  },
  {
   "cell_type": "markdown",
   "id": "1c8e8952",
   "metadata": {},
   "source": [
    "# 2. N과 M (2)\n",
    "memory: 29200KB, time: 72ms"
   ]
  },
  {
   "cell_type": "code",
   "execution_count": 53,
   "id": "698d84e6",
   "metadata": {},
   "outputs": [
    {
     "name": "stdout",
     "output_type": "stream",
     "text": [
      "3 1\n",
      "1\n",
      "2\n",
      "3\n"
     ]
    }
   ],
   "source": [
    "def print_seq(rest_list, ex_list, depth):\n",
    "    if depth > 1:\n",
    "        for num in rest_list:\n",
    "            if (ex_list) and (num < max(ex_list)):\n",
    "                continue\n",
    "            num_idx = rest_list.index(num)\n",
    "            ex_list.append(num)\n",
    "            print_seq(rest_list[:num_idx] + rest_list[num_idx + 1:], ex_list, depth - 1)\n",
    "            ex_list.remove(num)\n",
    "    else:\n",
    "        for rest_num in rest_list:\n",
    "            if (ex_list) and (rest_num < max(ex_list)):\n",
    "                continue\n",
    "            for ex_num in ex_list:    \n",
    "                print(ex_num, end = ' ')\n",
    "            print(rest_num)\n",
    "\n",
    "n, m = map(int, input().split())\n",
    "\n",
    "num_list = [i + 1 for i in range(n)]\n",
    "ex_list = []      \n",
    "print_seq(num_list, ex_list, m)"
   ]
  },
  {
   "cell_type": "markdown",
   "id": "826699b1",
   "metadata": {},
   "source": [
    "# 3. N과 M (3)\n",
    "memory: 29452KB, time: 2404ms"
   ]
  },
  {
   "cell_type": "code",
   "execution_count": 23,
   "id": "b998456f",
   "metadata": {
    "scrolled": false
   },
   "outputs": [
    {
     "name": "stdout",
     "output_type": "stream",
     "text": [
      "3 2\n",
      "1 1\n",
      "1 2\n",
      "1 3\n",
      "2 1\n",
      "2 2\n",
      "2 3\n",
      "3 1\n",
      "3 2\n",
      "3 3\n"
     ]
    }
   ],
   "source": [
    "def print_seq(num_list, before_list, depth):\n",
    "    if depth > 1:\n",
    "        for num in num_list:\n",
    "            before_list.append(num)\n",
    "            print_seq(num_list, before_list, depth - 1)\n",
    "            before_list.pop()\n",
    "    else:\n",
    "        for num in num_list:\n",
    "            for before_num in before_list:\n",
    "                print(before_num, end = ' ')\n",
    "            print(num)\n",
    "            \n",
    "n, m = map(int, input().split())\n",
    "\n",
    "num_list = [i + 1 for i in range(n)]\n",
    "before_list = []\n",
    "print_seq(num_list, before_list, m)"
   ]
  },
  {
   "cell_type": "markdown",
   "id": "675b6970",
   "metadata": {},
   "source": [
    "### dnf1743's code\n",
    "내 코드는 리스트에 접근하여 pop, append같은 과정을 요구하지만 애초에 str로 각 element를 변환하고 문자열을 생성하는 dnf1743의 코드는 메모리에 접근하는 횟수가 더 적으므로 실행시간을 크게 개선할 수 있다.\n",
    "\n",
    "memory: 29200KB, time: 552ms"
   ]
  },
  {
   "cell_type": "code",
   "execution_count": 30,
   "id": "746045b0",
   "metadata": {},
   "outputs": [
    {
     "name": "stdout",
     "output_type": "stream",
     "text": [
      "4 2\n",
      "1 1\n",
      "1 2\n",
      "1 3\n",
      "1 4\n",
      "2 1\n",
      "2 2\n",
      "2 3\n",
      "2 4\n",
      "3 1\n",
      "3 2\n",
      "3 3\n",
      "3 4\n",
      "4 1\n",
      "4 2\n",
      "4 3\n",
      "4 4\n"
     ]
    }
   ],
   "source": [
    "import sys\n",
    "from itertools import product\n",
    "\n",
    "def func(m, n_list, m_str) :\n",
    "    if m > 0 :\n",
    "        for i in n_list :\n",
    "            func(m-1,n_list,(m_str+\" \"+i))\n",
    "    else : sys.stdout.write(m_str[1:]+\"\\n\")\n",
    "\n",
    "def main() :\n",
    "    n, m = map(int,input().split())\n",
    "    n_list = list(map(str, range(1, n+1)))\n",
    "    m_str = \"\"\n",
    "    func(m,n_list,m_str)\n",
    "\n",
    "def main2() : ## itertools.product 함수를 사용해서도 가능하다.\n",
    "    n, m = map(int,sys.stdin.readline().split())\n",
    "    n_list = list(map(str,range(1, n+1)))\n",
    "    for p in map(\" \".join, product(n_list, repeat=m)) : sys.stdout.write(p+\"\\n\")\n",
    "\n",
    "if __name__==\"__main__\" :\n",
    "    main()"
   ]
  },
  {
   "cell_type": "markdown",
   "id": "bcbe2fe6",
   "metadata": {},
   "source": [
    "# 4. N과 M (4)\n",
    "memory: 29452KB, time: 104ms"
   ]
  },
  {
   "cell_type": "code",
   "execution_count": 34,
   "id": "43abe43d",
   "metadata": {},
   "outputs": [
    {
     "name": "stdout",
     "output_type": "stream",
     "text": [
      "4 2\n",
      "1 1\n",
      "1 2\n",
      "1 3\n",
      "1 4\n",
      "2 2\n",
      "2 3\n",
      "2 4\n",
      "3 3\n",
      "3 4\n",
      "4 4\n"
     ]
    }
   ],
   "source": [
    "def print_seq(rest_list, ex_list, depth):\n",
    "    if depth > 1:\n",
    "        for num in rest_list:\n",
    "            if (ex_list) and (num < max(ex_list)):\n",
    "                continue\n",
    "            num_idx = rest_list.index(num)\n",
    "            ex_list.append(num)\n",
    "            print_seq(rest_list, ex_list, depth - 1)\n",
    "            ex_list.remove(num)\n",
    "    else:\n",
    "        for rest_num in rest_list:\n",
    "            if (ex_list) and (rest_num < max(ex_list)):\n",
    "                continue\n",
    "            for ex_num in ex_list:    \n",
    "                print(ex_num, end = ' ')\n",
    "            print(rest_num)\n",
    "\n",
    "n, m = map(int, input().split())\n",
    "\n",
    "num_list = [i + 1 for i in range(n)]\n",
    "ex_list = []      \n",
    "print_seq(num_list, ex_list, m)"
   ]
  },
  {
   "cell_type": "markdown",
   "id": "b362df0f",
   "metadata": {},
   "source": [
    "# 5. N-Queen"
   ]
  },
  {
   "cell_type": "code",
   "execution_count": 35,
   "id": "ba43a4ff",
   "metadata": {},
   "outputs": [
    {
     "name": "stdout",
     "output_type": "stream",
     "text": [
      "5\n",
      "[0, 1, 2, 3, 4, 5, 6, 7, 8, 9, 10, 11, 12, 13, 14, 15, 16, 17, 18, 19, 20, 21, 22, 23, 24]\n"
     ]
    }
   ],
   "source": []
  },
  {
   "cell_type": "markdown",
   "id": "95c63db8",
   "metadata": {},
   "source": [
    "# 8. 스타트와 링크\n",
    "memory: 54592KB, time: 2108ms"
   ]
  },
  {
   "cell_type": "code",
   "execution_count": 71,
   "id": "9edffc8a",
   "metadata": {},
   "outputs": [
    {
     "name": "stdout",
     "output_type": "stream",
     "text": [
      "8\n",
      "0 5 4 5 4 5 4 5\n",
      "4 0 5 1 2 3 4 5\n",
      "9 8 0 1 2 3 1 2\n",
      "9 9 9 0 9 9 9 9\n",
      "1 1 1 1 0 1 1 1\n",
      "8 7 6 5 4 0 3 2\n",
      "9 1 9 1 9 1 0 9\n",
      "6 5 4 3 2 1 9 0\n",
      "1\n"
     ]
    }
   ],
   "source": [
    "from itertools import combinations\n",
    "import sys\n",
    "\n",
    "n = int(input())\n",
    "stat = []\n",
    "for i in range(n):\n",
    "    new_stat = list(map(int, input().split()))\n",
    "    stat.append(new_stat)\n",
    "    \n",
    "for i in range(n):\n",
    "    for j in range(n):\n",
    "        stat[j][i] += stat[i][j]\n",
    "        stat[i][j] = 0\n",
    "\n",
    "teams = list(combinations(range(n), int(n / 2)))\n",
    "teams_idx = range(len(teams)//2)\n",
    "\n",
    "min_diff = sys.maxsize\n",
    "for idx in teams_idx:\n",
    "    team_one = teams[idx]\n",
    "    team_two = teams[len(teams) - 1 - idx]\n",
    "    team_one_pairs = list(combinations(team_one, 2))\n",
    "    team_two_pairs = list(combinations(team_two, 2))\n",
    "    sum_team_one = 0\n",
    "    for pair_one in team_one_pairs:\n",
    "        sum_team_one += stat[pair_one[0]][pair_one[1]]\n",
    "    sum_team_two = 0\n",
    "    for pair_two in team_two_pairs:\n",
    "        sum_team_two += stat[pair_two[0]][pair_two[1]]\n",
    "    diff = abs(sum_team_one - sum_team_two)\n",
    "    if diff < min_diff:\n",
    "        min_diff = diff\n",
    "print(min_diff)"
   ]
  },
  {
   "cell_type": "markdown",
   "id": "fcbaf377",
   "metadata": {},
   "source": [
    "### nsoyo10's code\n",
    "memory: 35648, time: 204ms\n",
    "\n",
    "I did not understand why this code works. But it seems much much faster than my code."
   ]
  },
  {
   "cell_type": "code",
   "execution_count": 85,
   "id": "7de3b1c2",
   "metadata": {},
   "outputs": [
    {
     "name": "stdout",
     "output_type": "stream",
     "text": [
      "4\n",
      "0 1 2 3\n",
      "4 0 5 6\n",
      "7 1 0 2\n",
      "4 5 6 0\n",
      "1\n"
     ]
    }
   ],
   "source": [
    "import sys\n",
    "from itertools import combinations\n",
    "\n",
    "N = int(input())\n",
    "list_N = list(range(N))\n",
    "data_list = [list(map(int, input().split())) for __ in range(N)]\n",
    "sum_list = [sum(i) + sum(j) for i, j in zip(data_list, zip(*data_list))]\n",
    "answer = min([abs(sum(sum_list) // 2 - sum(team)) for team in combinations(sum_list, N // 2)])\n",
    "\n",
    "print(answer)"
   ]
  }
 ],
 "metadata": {
  "kernelspec": {
   "display_name": "Python 3",
   "language": "python",
   "name": "python3"
  },
  "language_info": {
   "codemirror_mode": {
    "name": "ipython",
    "version": 3
   },
   "file_extension": ".py",
   "mimetype": "text/x-python",
   "name": "python",
   "nbconvert_exporter": "python",
   "pygments_lexer": "ipython3",
   "version": "3.7.4"
  }
 },
 "nbformat": 4,
 "nbformat_minor": 5
}
