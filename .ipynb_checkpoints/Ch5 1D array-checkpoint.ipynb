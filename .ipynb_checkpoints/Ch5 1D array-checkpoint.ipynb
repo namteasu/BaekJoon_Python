{
 "cells": [
  {
   "cell_type": "markdown",
   "id": "09c3195e",
   "metadata": {},
   "source": [
    "# 1. 최소, 최대"
   ]
  },
  {
   "cell_type": "code",
   "execution_count": 2,
   "id": "7f355924",
   "metadata": {},
   "outputs": [
    {
     "name": "stdout",
     "output_type": "stream",
     "text": [
      "5\n",
      "20 10 35 30 7\n",
      "7 35\n"
     ]
    }
   ],
   "source": [
    "import sys\n",
    "\n",
    "n = int(sys.stdin.readline())\n",
    "arr = map(int, sys.stdin.readline().split())\n",
    "mini = 1000001 #bigger than the biggest value\n",
    "maxi = -1000001 #smaller than the smallest value\n",
    "\n",
    "for i in arr:\n",
    "    if i < mini:\n",
    "        mini = i\n",
    "    if i > maxi:\n",
    "        maxi = i\n",
    "print(mini, maxi)"
   ]
  },
  {
   "cell_type": "markdown",
   "id": "7b8b875e",
   "metadata": {},
   "source": [
    "# 2. 최댓값"
   ]
  },
  {
   "cell_type": "code",
   "execution_count": 7,
   "id": "0c70229a",
   "metadata": {},
   "outputs": [
    {
     "name": "stdout",
     "output_type": "stream",
     "text": [
      "0\n",
      "0\n"
     ]
    }
   ],
   "source": [
    "import sys\n",
    "loc = 0\n",
    "maxi = 0 #smaller than the smallest value\n",
    "maxi_loc = 0\n",
    "while True:\n",
    "    try:\n",
    "        loc += 1\n",
    "        n = int(sys.stdin.readline())\n",
    "        if n > maxi:\n",
    "            maxi = n\n",
    "            maxi_loc = loc\n",
    "    except:\n",
    "        break\n",
    "print(maxi)\n",
    "print(maxi_loc)\n"
   ]
  },
  {
   "cell_type": "markdown",
   "id": "f9585966",
   "metadata": {},
   "source": [
    "# 3. 숫자의 개수"
   ]
  },
  {
   "cell_type": "code",
   "execution_count": 18,
   "id": "ae84b587",
   "metadata": {},
   "outputs": [
    {
     "name": "stdout",
     "output_type": "stream",
     "text": [
      "132\n",
      "432\n",
      "745\n",
      "1\n",
      "0\n",
      "2\n",
      "0\n",
      "2\n",
      "0\n",
      "0\n",
      "0\n",
      "3\n",
      "0\n"
     ]
    }
   ],
   "source": [
    "import sys\n",
    "\n",
    "a = int(sys.stdin.readline())\n",
    "b = int(sys.stdin.readline())\n",
    "c = int(sys.stdin.readline())\n",
    "result = map(int, list(str(a*b*c)))\n",
    "freq = [0 for _ in range(10)]\n",
    "\n",
    "for num in result:\n",
    "    freq[num] += 1\n",
    "\n",
    "for i in freq:\n",
    "    print(i)"
   ]
  },
  {
   "cell_type": "markdown",
   "id": "a595d4ba",
   "metadata": {},
   "source": [
    "# 4. 나머지"
   ]
  },
  {
   "cell_type": "code",
   "execution_count": null,
   "id": "ac39bad5",
   "metadata": {},
   "outputs": [],
   "source": [
    "import sys\n",
    "\n",
    "freq = [0 for _ in range(42)]\n",
    "for _ in range(10):\n",
    "    n = int(sys.stdin.readline())\n",
    "    freq[n%42] = +1\n",
    "\n",
    "n_diff = 0\n",
    "for i in freq:\n",
    "    if i != 0:\n",
    "        n_diff += 1\n",
    "        \n",
    "print(n_diff)"
   ]
  },
  {
   "cell_type": "markdown",
   "id": "929f2ac3",
   "metadata": {},
   "source": [
    "# 5. 평균"
   ]
  },
  {
   "cell_type": "code",
   "execution_count": 33,
   "id": "4cfafdfb",
   "metadata": {},
   "outputs": [
    {
     "name": "stdout",
     "output_type": "stream",
     "text": [
      "4\n",
      "1 100 100 100\n",
      "75.25\n"
     ]
    }
   ],
   "source": [
    "import sys\n",
    "\n",
    "n = int(sys.stdin.readline())\n",
    "scores = list(map(int, sys.stdin.readline().split()))\n",
    "mx = max(scores)\n",
    "new_mean = 0\n",
    "\n",
    "for score in scores:\n",
    "    new_mean += score/mx*100\n",
    "\n",
    "print(new_mean/n)\n"
   ]
  },
  {
   "cell_type": "markdown",
   "id": "be41f9b4",
   "metadata": {},
   "source": [
    "# 6. OX퀴즈"
   ]
  },
  {
   "cell_type": "code",
   "execution_count": 37,
   "id": "d81042b8",
   "metadata": {},
   "outputs": [
    {
     "name": "stdout",
     "output_type": "stream",
     "text": [
      "5\n",
      "OOXXOXXOOO\n",
      "10\n",
      "OOXXOOXXOO\n",
      "9\n",
      "OXOXOXOXOXOXOX\n",
      "7\n",
      "OOOOOOOOOO\n",
      "55\n",
      "OOOOXOOOOXOOOOX\n",
      "30\n"
     ]
    }
   ],
   "source": [
    "import sys\n",
    "n = int(sys.stdin.readline())\n",
    "for i in range(n):\n",
    "    quiz = sys.stdin.readline()\n",
    "    adder = 0\n",
    "    score = 0\n",
    "    for asn in quiz:\n",
    "        if asn == 'O':\n",
    "            adder += 1\n",
    "            score += adder\n",
    "        elif asn == 'X':\n",
    "            adder = 0\n",
    "        \n",
    "    print(score)"
   ]
  },
  {
   "cell_type": "markdown",
   "id": "d9a05a8a",
   "metadata": {},
   "source": [
    "# 7. 평균은 넘겠지"
   ]
  },
  {
   "cell_type": "code",
   "execution_count": 10,
   "id": "10b4a633",
   "metadata": {},
   "outputs": [
    {
     "ename": "ValueError",
     "evalue": "invalid literal for int() with base 10: ''",
     "output_type": "error",
     "traceback": [
      "\u001b[1;31m---------------------------------------------------------------------------\u001b[0m",
      "\u001b[1;31mValueError\u001b[0m                                Traceback (most recent call last)",
      "\u001b[1;32m<ipython-input-10-c03c4861d859>\u001b[0m in \u001b[0;36m<module>\u001b[1;34m\u001b[0m\n\u001b[0;32m      1\u001b[0m \u001b[1;32mimport\u001b[0m \u001b[0msys\u001b[0m\u001b[1;33m\u001b[0m\u001b[1;33m\u001b[0m\u001b[0m\n\u001b[1;32m----> 2\u001b[1;33m \u001b[0mn\u001b[0m \u001b[1;33m=\u001b[0m \u001b[0mint\u001b[0m\u001b[1;33m(\u001b[0m\u001b[0msys\u001b[0m\u001b[1;33m.\u001b[0m\u001b[0mstdin\u001b[0m\u001b[1;33m.\u001b[0m\u001b[0mreadline\u001b[0m\u001b[1;33m(\u001b[0m\u001b[1;33m)\u001b[0m\u001b[1;33m)\u001b[0m\u001b[1;33m\u001b[0m\u001b[1;33m\u001b[0m\u001b[0m\n\u001b[0m\u001b[0;32m      3\u001b[0m \u001b[1;33m\u001b[0m\u001b[0m\n\u001b[0;32m      4\u001b[0m \u001b[1;32mfor\u001b[0m \u001b[0mi\u001b[0m \u001b[1;32min\u001b[0m \u001b[0mrange\u001b[0m\u001b[1;33m(\u001b[0m\u001b[0mn\u001b[0m\u001b[1;33m)\u001b[0m\u001b[1;33m:\u001b[0m\u001b[1;33m\u001b[0m\u001b[1;33m\u001b[0m\u001b[0m\n\u001b[0;32m      5\u001b[0m     \u001b[0mtest_case\u001b[0m \u001b[1;33m=\u001b[0m \u001b[0mlist\u001b[0m\u001b[1;33m(\u001b[0m\u001b[0mmap\u001b[0m\u001b[1;33m(\u001b[0m\u001b[0mint\u001b[0m\u001b[1;33m,\u001b[0m \u001b[0msys\u001b[0m\u001b[1;33m.\u001b[0m\u001b[0mstdin\u001b[0m\u001b[1;33m.\u001b[0m\u001b[0mreadline\u001b[0m\u001b[1;33m(\u001b[0m\u001b[1;33m)\u001b[0m\u001b[1;33m.\u001b[0m\u001b[0msplit\u001b[0m\u001b[1;33m(\u001b[0m\u001b[1;33m)\u001b[0m\u001b[1;33m)\u001b[0m\u001b[1;33m)\u001b[0m\u001b[1;33m\u001b[0m\u001b[1;33m\u001b[0m\u001b[0m\n",
      "\u001b[1;31mValueError\u001b[0m: invalid literal for int() with base 10: ''"
     ]
    }
   ],
   "source": [
    "import sys\n",
    "n = int(sys.stdin.readline())\n",
    "\n",
    "for i in range(n):\n",
    "    test_case = list(map(int, sys.stdin.readline().split()))\n",
    "    num = test_case[0]\n",
    "    scores = test_case[1:]\n",
    "    m = sum(scores)/num\n",
    "    good_std = 0\n",
    "    for score in scores:\n",
    "        if score > m:\n",
    "            good_std += 1\n",
    "    \n",
    "    print(\"{0:0.3f}%\".format(good_std/num*100))"
   ]
  }
 ],
 "metadata": {
  "kernelspec": {
   "display_name": "Python 3",
   "language": "python",
   "name": "python3"
  },
  "language_info": {
   "codemirror_mode": {
    "name": "ipython",
    "version": 3
   },
   "file_extension": ".py",
   "mimetype": "text/x-python",
   "name": "python",
   "nbconvert_exporter": "python",
   "pygments_lexer": "ipython3",
   "version": "3.6.13"
  }
 },
 "nbformat": 4,
 "nbformat_minor": 5
}
