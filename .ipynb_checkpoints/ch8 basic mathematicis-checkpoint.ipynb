{
 "cells": [
  {
   "cell_type": "markdown",
   "id": "8ae6510f",
   "metadata": {},
   "source": [
    "# 1. 손익분기점"
   ]
  },
  {
   "cell_type": "code",
   "execution_count": 1,
   "id": "aa897284",
   "metadata": {},
   "outputs": [
    {
     "name": "stdout",
     "output_type": "stream",
     "text": [
      "1000 70 170\n",
      "11\n"
     ]
    }
   ],
   "source": [
    "fixed_c, vari_c, p = map(int, input().split())\n",
    "if vari_c >= p:\n",
    "    print(-1)\n",
    "else:\n",
    "    print(fixed_c//(p-vari_c) + 1)"
   ]
  },
  {
   "cell_type": "markdown",
   "id": "5ab100ec",
   "metadata": {},
   "source": [
    "# 2. 벌집"
   ]
  },
  {
   "cell_type": "code",
   "execution_count": 10,
   "id": "40833394",
   "metadata": {},
   "outputs": [
    {
     "name": "stdout",
     "output_type": "stream",
     "text": [
      "13\n",
      "3\n"
     ]
    }
   ],
   "source": [
    "n = int(input()) - 1\n",
    "count = 1\n",
    "\n",
    "while n > 0:\n",
    "    n -= count*6\n",
    "    count += 1\n",
    "\n",
    "print(count)"
   ]
  },
  {
   "cell_type": "markdown",
   "id": "097a6e05",
   "metadata": {},
   "source": [
    "# 3. 분수찾기"
   ]
  },
  {
   "cell_type": "code",
   "execution_count": 50,
   "id": "c0cf9ba1",
   "metadata": {},
   "outputs": [
    {
     "name": "stdout",
     "output_type": "stream",
     "text": [
      "7\n",
      "1/4\n"
     ]
    }
   ],
   "source": [
    "n = int(input()) \n",
    "layer = 1\n",
    "\n",
    "while True:\n",
    "    n -= layer\n",
    "    if n <= 0:\n",
    "        break\n",
    "    layer += 1\n",
    "order = n + layer\n",
    "\n",
    "if layer == 1:\n",
    "    print('1/1')\n",
    "elif (layer % 2) == 0:\n",
    "    print(str(order)+'/'+str(layer+1-order))\n",
    "elif (layer % 2) == 1:\n",
    "    print(str(layer+1-order)+'/'+str(order))"
   ]
  },
  {
   "cell_type": "markdown",
   "id": "8c46af6d",
   "metadata": {},
   "source": [
    "# 4. 달팽이는 올라가고 싶다"
   ]
  },
  {
   "cell_type": "code",
   "execution_count": 53,
   "id": "b0863c5b",
   "metadata": {},
   "outputs": [
    {
     "name": "stdout",
     "output_type": "stream",
     "text": [
      "100 99 1000000000\n",
      "999999901\n"
     ]
    }
   ],
   "source": [
    "day, night, height = map(int, input().split())\n",
    "last_night = height - day\n",
    "n = last_night//(day-night)\n",
    "if last_night%(day-night) == 0:\n",
    "    print(n+1)\n",
    "elif last_night%(day-night) != 0:\n",
    "    print(n+2)    "
   ]
  },
  {
   "cell_type": "markdown",
   "id": "e9270d93",
   "metadata": {},
   "source": [
    "# 5. ACM호텔"
   ]
  },
  {
   "cell_type": "code",
   "execution_count": 15,
   "id": "dd4858e6",
   "metadata": {
    "scrolled": true
   },
   "outputs": [
    {
     "name": "stdout",
     "output_type": "stream",
     "text": [
      "1\n",
      "6 12 60\n",
      "610\n"
     ]
    }
   ],
   "source": [
    "t = int(input())\n",
    "for _ in range(t):\n",
    "    h, w, n = map(int, input().split())\n",
    "    xx = str((n-1)//h + 1)\n",
    "    if len(xx) == 1:\n",
    "        xx = '0' + xx\n",
    "    yy = str(n%h) if n%h else str(h)\n",
    "    print(yy + xx)"
   ]
  },
  {
   "cell_type": "markdown",
   "id": "972551a5",
   "metadata": {},
   "source": [
    "# 6. 부녀회장이 될테야"
   ]
  },
  {
   "cell_type": "markdown",
   "id": "6f05a6bf",
   "metadata": {},
   "source": [
    "시간 초과로 실패한 코드"
   ]
  },
  {
   "cell_type": "code",
   "execution_count": 25,
   "id": "1a6ef922",
   "metadata": {},
   "outputs": [
    {
     "name": "stdout",
     "output_type": "stream",
     "text": [
      "1\n",
      "12\n",
      "14\n",
      "10400600\n"
     ]
    }
   ],
   "source": [
    "def n_family(k, n):\n",
    "    if k == 0:\n",
    "        return n\n",
    "    elif n == 1:\n",
    "        return 1\n",
    "    else:\n",
    "        return n_family(k-1,n) + n_family(k,n-1)\n",
    "\n",
    "t = int(input())\n",
    "\n",
    "for _ in range(t):\n",
    "    k = int(input())\n",
    "    n = int(input())\n",
    "    print(n_family(k, n))"
   ]
  },
  {
   "cell_type": "markdown",
   "id": "1e0fefd4",
   "metadata": {},
   "source": [
    "제출 코드"
   ]
  },
  {
   "cell_type": "code",
   "execution_count": 47,
   "id": "33bcf1c3",
   "metadata": {},
   "outputs": [
    {
     "name": "stdout",
     "output_type": "stream",
     "text": [
      "1\n",
      "2\n",
      "3\n",
      "10\n"
     ]
    }
   ],
   "source": [
    "t = int(input())\n",
    "\n",
    "for _ in range(t):\n",
    "    k = int(input())\n",
    "    n = int(input())\n",
    "    apt = [[j+1 if i == 0 else 0 for j in range(14) ] \n",
    "           for i in range(k+1)] #max(n) is 14\n",
    "\n",
    "    for floor in range(1,k+1):\n",
    "        apt[floor][0] = 1\n",
    "        for room in range(1,14):\n",
    "            apt[floor][room] += (apt[floor][room-1] \n",
    "                                + apt[floor-1][room])\n",
    "    print(apt[k][n-1])"
   ]
  },
  {
   "cell_type": "markdown",
   "id": "2ee97352",
   "metadata": {},
   "source": [
    "# 7. 설탕배달"
   ]
  },
  {
   "cell_type": "code",
   "execution_count": 79,
   "id": "237c81e9",
   "metadata": {},
   "outputs": [
    {
     "name": "stdout",
     "output_type": "stream",
     "text": [
      "11\n",
      "3\n"
     ]
    }
   ],
   "source": [
    "n = int(input())\n",
    "\n",
    "for i in range(3): #-15는 3의 배수이므로 -5와 -10만 고려\n",
    "    n_kg5 = n // 5 - i\n",
    "    res = n%5 + 5*i\n",
    "    n_kg3 = res // 3 \n",
    "    res = res % 3\n",
    "    if n_kg5 < 0 or n_kg3 < 0:\n",
    "        print(-1)\n",
    "        break\n",
    "    elif res:\n",
    "        continue\n",
    "    else:\n",
    "        print(n_kg5 + n_kg3)\n",
    "        break\n"
   ]
  },
  {
   "cell_type": "markdown",
   "id": "adce95b0",
   "metadata": {},
   "source": [
    "# 8. 큰 수 A+B"
   ]
  },
  {
   "cell_type": "code",
   "execution_count": 85,
   "id": "e710c3d0",
   "metadata": {},
   "outputs": [
    {
     "name": "stdout",
     "output_type": "stream",
     "text": [
      "19\n"
     ]
    },
    {
     "data": {
      "text/plain": [
       "9223372036854775807"
      ]
     },
     "execution_count": 85,
     "metadata": {},
     "output_type": "execute_result"
    }
   ],
   "source": [
    "import sys\n",
    "\n",
    "print(len(str(sys.maxsize)))\n",
    "sys.maxsize\n"
   ]
  },
  {
   "cell_type": "code",
   "execution_count": 119,
   "id": "b2a32ea6",
   "metadata": {},
   "outputs": [
    {
     "name": "stdout",
     "output_type": "stream",
     "text": [
      "9223372036854775807 9223372036854775808\n",
      "18446744073709551615\n"
     ]
    }
   ],
   "source": [
    "a, b = input().split()\n",
    "a_len, b_len = len(a), len(b)\n",
    "max_len = max(a_len, b_len)\n",
    "a_list = list(a)\n",
    "b_list = list(b)\n",
    "if a_len > b_len:\n",
    "    a_list = ['0'] + a_list\n",
    "    b_list = ['0'] * (a_len - b_len + 1) + b_list\n",
    "else :\n",
    "    a_list = ['0'] * (b_len - a_len + 1) + a_list\n",
    "    b_list = ['0'] + b_list\n",
    "adder = 0\n",
    "ans = ''\n",
    "\n",
    "for i in range(max_len, -1, -1):\n",
    "    tmp = int(a_list[i]) + int(b_list[i])\n",
    "    if (tmp + adder) < 10:\n",
    "        ans = str(tmp+adder) + ans\n",
    "        adder = 0\n",
    "    else:\n",
    "        ans = str(tmp+adder)[1] + ans\n",
    "        adder = 1\n",
    "\n",
    "print(ans if ans[0] == '1' else ans[1:])"
   ]
  },
  {
   "cell_type": "markdown",
   "id": "474a1587",
   "metadata": {},
   "source": [
    "타인의 코드, 파이썬이 max값도 다룰 수 있게 바뀌었나보다..."
   ]
  },
  {
   "cell_type": "code",
   "execution_count": 121,
   "id": "d60fe124",
   "metadata": {},
   "outputs": [
    {
     "name": "stdout",
     "output_type": "stream",
     "text": [
      "123 431\n",
      "554\n"
     ]
    }
   ],
   "source": [
    "a, b = map(int, input().split())\n",
    "\n",
    "print(a+b)"
   ]
  },
  {
   "cell_type": "markdown",
   "id": "bb9cb3e8",
   "metadata": {},
   "source": [
    "# 9. Fly me to the alpha centauri"
   ]
  },
  {
   "cell_type": "code",
   "execution_count": 146,
   "id": "d534ce58",
   "metadata": {},
   "outputs": [
    {
     "name": "stdout",
     "output_type": "stream",
     "text": [
      "1\n",
      "3 8\n",
      "4\n"
     ]
    }
   ],
   "source": [
    "def speed_func(k, dist):\n",
    "    if (k * (k+1) / 2) <= dist - k - 1:\n",
    "        return k + 1\n",
    "    elif (k * (k-1) / 2) <= dist - k:\n",
    "        return k\n",
    "    else:\n",
    "        return k - 1\n",
    "    \n",
    "t = int(input())\n",
    "for _ in range(t):\n",
    "    x, y = map(int, input().split())\n",
    "    dist = y - x\n",
    "    cnt = 0\n",
    "    spd = 0\n",
    "    while True:\n",
    "        spd = speed_func(spd, dist)\n",
    "        dist -= spd\n",
    "        cnt += 1\n",
    "        if dist == 0:\n",
    "            break\n",
    "    print(cnt)\n"
   ]
  },
  {
   "cell_type": "markdown",
   "id": "465db155",
   "metadata": {},
   "source": [
    "타인 코드, 양 쪽에서 속도를 대칭적으로 쌓아올리는 아이디어"
   ]
  },
  {
   "cell_type": "code",
   "execution_count": 145,
   "id": "41f329d5",
   "metadata": {},
   "outputs": [
    {
     "name": "stdout",
     "output_type": "stream",
     "text": [
      "1\n",
      "0 999\n",
      "63\n"
     ]
    }
   ],
   "source": [
    "T = int(input())\n",
    "for _ in range(T):\n",
    "    x, y = map(int, input().split())\n",
    "    distance = y - x\n",
    "    cnt = 0\n",
    "    move = 1\n",
    "    while distance > 0:\n",
    "        cnt += 1\n",
    "        distance -= move\n",
    "        if cnt % 2 == 0:\n",
    "            move += 1\n",
    "    print(cnt)"
   ]
  }
 ],
 "metadata": {
  "kernelspec": {
   "display_name": "Python 3",
   "language": "python",
   "name": "python3"
  },
  "language_info": {
   "codemirror_mode": {
    "name": "ipython",
    "version": 3
   },
   "file_extension": ".py",
   "mimetype": "text/x-python",
   "name": "python",
   "nbconvert_exporter": "python",
   "pygments_lexer": "ipython3",
   "version": "3.7.4"
  }
 },
 "nbformat": 4,
 "nbformat_minor": 5
}
