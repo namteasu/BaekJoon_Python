{
 "cells": [
  {
   "cell_type": "markdown",
   "id": "0804c6fa",
   "metadata": {},
   "source": [
    "# 1. 암호 해독법"
   ]
  },
  {
   "cell_type": "code",
   "execution_count": 12,
   "id": "dd00d16c",
   "metadata": {},
   "outputs": [
    {
     "name": "stdout",
     "output_type": "stream",
     "text": [
      "3 55\n",
      "95 12 100 5000 62 3 5 12\n",
      "29\n"
     ]
    }
   ],
   "source": [
    "n, m = map(int, input().split())\n",
    "nums = list(map(int, input().split()))\n",
    "\n",
    "mx = 0\n",
    "for i in range(len(nums)):\n",
    "    for j in range(i + 1, len(nums)):\n",
    "        for k in range(j + 1, len(nums)):\n",
    "            result = nums[i] + nums[j] + nums[k]\n",
    "            if (result > mx) and (result <= m):\n",
    "                mx = result\n",
    "\n",
    "print(mx)"
   ]
  },
  {
   "cell_type": "markdown",
   "id": "0b24ea4b",
   "metadata": {},
   "source": [
    "# 2. 분해합"
   ]
  },
  {
   "cell_type": "code",
   "execution_count": 49,
   "id": "e0f22a1f",
   "metadata": {},
   "outputs": [
    {
     "name": "stdout",
     "output_type": "stream",
     "text": [
      "16\n",
      "8\n"
     ]
    }
   ],
   "source": [
    "n = int(input())\n",
    "\n",
    "if n < 18: #prevent 'min_range' from being negative\n",
    "    min_range = 1\n",
    "else:\n",
    "    min_range = n - 9 * len(str(n))\n",
    "max_range = n - 1 * len(str(n))\n",
    "exist = False\n",
    "\n",
    "for candid_m in range(min_range, max_range + 1):\n",
    "    sum_m = candid_m\n",
    "    for i in str(candid_m):\n",
    "        sum_m += int(i)\n",
    "    if (sum_m == n):\n",
    "        print(candid_m) #since we search from small value, this is the minimum\n",
    "        exist = True\n",
    "        break\n",
    "\n",
    "if not exist:\n",
    "    print(0)"
   ]
  },
  {
   "cell_type": "markdown",
   "id": "5b3cfeec",
   "metadata": {},
   "source": [
    "# 3. 덩치"
   ]
  },
  {
   "cell_type": "code",
   "execution_count": 54,
   "id": "4a16b8f7",
   "metadata": {},
   "outputs": [
    {
     "name": "stdout",
     "output_type": "stream",
     "text": [
      "5\n",
      "55 185\n",
      "58 183\n",
      "88 186\n",
      "60 175\n",
      "46 155\n",
      "2 2 1 2 5 "
     ]
    }
   ],
   "source": [
    "n = int(input())\n",
    "\n",
    "data =[]\n",
    "for person in range(n):\n",
    "    w_and_h = list(map(int, input().split()))\n",
    "    data.append(w_and_h)\n",
    "\n",
    "for w_h in data:\n",
    "    rank = 1\n",
    "    for compare in data:\n",
    "        if (w_h[0] < compare[0]) and (w_h[1] < compare[1]):\n",
    "            rank += 1\n",
    "    print(rank, end = ' ')"
   ]
  },
  {
   "cell_type": "markdown",
   "id": "2789bb07",
   "metadata": {},
   "source": [
    "# 4. 체스판 다시 칠하기"
   ]
  },
  {
   "cell_type": "code",
   "execution_count": 60,
   "id": "c925b68d",
   "metadata": {},
   "outputs": [
    {
     "data": {
      "text/plain": [
       "[[1, 4, 2], [4, 5, 6]]"
      ]
     },
     "execution_count": 60,
     "metadata": {},
     "output_type": "execute_result"
    }
   ],
   "source": [
    "test = [[1,4,2],[4,5,6],[910,4,30]]\n",
    "test[:2][:2]"
   ]
  },
  {
   "cell_type": "code",
   "execution_count": null,
   "id": "d3c1d2a1",
   "metadata": {},
   "outputs": [],
   "source": [
    "SIZE = 8\n",
    "\n",
    "n, m = map(int, input().split())\n",
    "board = []\n",
    "for row in range(n):\n",
    "    board.append(input())\n",
    "\n",
    "for left_idx in range(n + 1 - SIZE):\n",
    "    for upper_idx in range(m + 1 - SIZE):\n",
    "        chess_board = board"
   ]
  },
  {
   "cell_type": "markdown",
   "id": "9cfaab24",
   "metadata": {},
   "source": [
    "# 5. 영화감독 숌"
   ]
  },
  {
   "cell_type": "markdown",
   "id": "f959549d",
   "metadata": {},
   "source": [
    "내코드"
   ]
  },
  {
   "cell_type": "code",
   "execution_count": 127,
   "id": "80b8cbd4",
   "metadata": {},
   "outputs": [
    {
     "name": "stdout",
     "output_type": "stream",
     "text": [
      "32\n"
     ]
    },
    {
     "data": {
      "text/plain": [
       "16666"
      ]
     },
     "execution_count": 127,
     "metadata": {},
     "output_type": "execute_result"
    }
   ],
   "source": [
    "n = int(input())\n",
    "\n",
    "shom_list = []\n",
    "for i in range(100000):\n",
    "    for idx in range(6):\n",
    "        num = str(i)\n",
    "        if len(str(i)) < 4:\n",
    "            num = '0' * (4 - len(str(i))) + str(i)\n",
    "        shom_list.append(str(num)[:idx] + '666' + str(num)[idx:])\n",
    "sorted(set(map(int, shom_list)))[n - 1]"
   ]
  },
  {
   "cell_type": "markdown",
   "id": "f8294d1f",
   "metadata": {},
   "source": [
    "타인코드"
   ]
  },
  {
   "cell_type": "code",
   "execution_count": 126,
   "id": "7461052c",
   "metadata": {},
   "outputs": [
    {
     "name": "stdout",
     "output_type": "stream",
     "text": [
      "32\n",
      "16666\n"
     ]
    }
   ],
   "source": [
    "n = int(input())\n",
    "\n",
    "name = 666\n",
    "cnt=0\n",
    "while(True):\n",
    "    if \"666\" in str(name) : \n",
    "        cnt+=1\n",
    "        if cnt == n : print(name) ; break\n",
    "    \n",
    "    name+=1\n"
   ]
  }
 ],
 "metadata": {
  "kernelspec": {
   "display_name": "Python 3",
   "language": "python",
   "name": "python3"
  },
  "language_info": {
   "codemirror_mode": {
    "name": "ipython",
    "version": 3
   },
   "file_extension": ".py",
   "mimetype": "text/x-python",
   "name": "python",
   "nbconvert_exporter": "python",
   "pygments_lexer": "ipython3",
   "version": "3.7.4"
  }
 },
 "nbformat": 4,
 "nbformat_minor": 5
}
