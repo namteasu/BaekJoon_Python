{
 "cells": [
  {
   "cell_type": "markdown",
   "id": "eea18a62",
   "metadata": {},
   "source": [
    "# 1. A+B-5"
   ]
  },
  {
   "cell_type": "code",
   "execution_count": 5,
   "id": "7d1f7084",
   "metadata": {},
   "outputs": [
    {
     "name": "stdout",
     "output_type": "stream",
     "text": [
      "1 1\n",
      "2\n",
      "2 3\n",
      "5\n",
      "3 4\n",
      "7\n",
      "9 8\n",
      "17\n",
      "0 0\n"
     ]
    }
   ],
   "source": [
    "import sys\n",
    "\n",
    "a, b = map(int, sys.stdin.readline().split())\n",
    "while (a != 0) and (b != 0):\n",
    "    print(a + b)\n",
    "    a, b = map(int, sys.stdin.readline().split())\n",
    "    "
   ]
  },
  {
   "cell_type": "markdown",
   "id": "938bf340",
   "metadata": {},
   "source": [
    "# 2. A+B-4"
   ]
  },
  {
   "cell_type": "code",
   "execution_count": 13,
   "id": "0f56a92b",
   "metadata": {},
   "outputs": [
    {
     "ename": "SyntaxError",
     "evalue": "invalid syntax (<ipython-input-13-57cb6c3103ba>, line 4)",
     "output_type": "error",
     "traceback": [
      "\u001b[1;36m  File \u001b[1;32m\"<ipython-input-13-57cb6c3103ba>\"\u001b[1;36m, line \u001b[1;32m4\u001b[0m\n\u001b[1;33m    try a, b = map(int, line.split()):\u001b[0m\n\u001b[1;37m        ^\u001b[0m\n\u001b[1;31mSyntaxError\u001b[0m\u001b[1;31m:\u001b[0m invalid syntax\n"
     ]
    }
   ],
   "source": [
    "import sys\n",
    "\n",
    "while True:\n",
    "    try:\n",
    "        a, b = map(int, sys.stdin.readline().split())\n",
    "        print(a+b)\n",
    "    except:\n",
    "        break"
   ]
  },
  {
   "cell_type": "markdown",
   "id": "e6ca003d",
   "metadata": {},
   "source": [
    "# 3. 더하기 사이클"
   ]
  },
  {
   "cell_type": "code",
   "execution_count": 11,
   "id": "1320825c",
   "metadata": {},
   "outputs": [
    {
     "name": "stdout",
     "output_type": "stream",
     "text": [
      "55\n",
      "3\n"
     ]
    }
   ],
   "source": [
    "import sys\n",
    "\n",
    "n_old = int(sys.stdin.readline())\n",
    "n_new = n_old\n",
    "length = 0\n",
    "while True:\n",
    "\n",
    "    n_new = 10 * (n_new%10) + ((n_new//10) + (n_new%10)) % 10\n",
    "    length += 1\n",
    "    if n_new == n_old:\n",
    "        print(length)\n",
    "        break\n"
   ]
  }
 ],
 "metadata": {
  "kernelspec": {
   "display_name": "Python 3",
   "language": "python",
   "name": "python3"
  },
  "language_info": {
   "codemirror_mode": {
    "name": "ipython",
    "version": 3
   },
   "file_extension": ".py",
   "mimetype": "text/x-python",
   "name": "python",
   "nbconvert_exporter": "python",
   "pygments_lexer": "ipython3",
   "version": "3.6.13"
  }
 },
 "nbformat": 4,
 "nbformat_minor": 5
}
