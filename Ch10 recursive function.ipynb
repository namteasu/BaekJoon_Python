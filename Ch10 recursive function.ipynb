{
 "cells": [
  {
   "cell_type": "markdown",
   "id": "f5b5824b",
   "metadata": {},
   "source": [
    "# 1. 팩토리얼"
   ]
  },
  {
   "cell_type": "code",
   "execution_count": 11,
   "id": "c1c330d3",
   "metadata": {},
   "outputs": [
    {
     "name": "stdout",
     "output_type": "stream",
     "text": [
      "7\n",
      "5040\n"
     ]
    }
   ],
   "source": [
    "def fact(n):\n",
    "    if n == 0 or n == 1:\n",
    "        return 1\n",
    "    else: \n",
    "        return n * fact(n - 1)\n",
    "n = int(input())\n",
    "print(fact(n))"
   ]
  },
  {
   "cell_type": "markdown",
   "id": "9e96e81a",
   "metadata": {},
   "source": [
    "# 2. 피보나치 수 5"
   ]
  },
  {
   "cell_type": "code",
   "execution_count": 16,
   "id": "16e78afb",
   "metadata": {},
   "outputs": [
    {
     "name": "stdout",
     "output_type": "stream",
     "text": [
      "20\n",
      "6765\n"
     ]
    }
   ],
   "source": [
    "def fibo(n):\n",
    "    if n == 0:\n",
    "        return 0\n",
    "    elif n == 1:\n",
    "        return 1\n",
    "    else:\n",
    "        return fibo(n-1) + fibo(n-2)\n",
    "\n",
    "n = int(input())\n",
    "print(fibo(n))"
   ]
  },
  {
   "cell_type": "markdown",
   "id": "de8242ed",
   "metadata": {},
   "source": [
    "# 3. 별 찍기 - 10"
   ]
  },
  {
   "cell_type": "markdown",
   "id": "85b6f5ad",
   "metadata": {},
   "source": [
    "def get_exp3(n):\n",
    "    target = n\n",
    "    exp = 0\n",
    "    while True:\n",
    "        n = n // 3\n",
    "        exp += 1\n",
    "        if n == 1:\n",
    "            return exp"
   ]
  },
  {
   "cell_type": "code",
   "execution_count": 25,
   "id": "818a33b6",
   "metadata": {},
   "outputs": [
    {
     "name": "stdout",
     "output_type": "stream",
     "text": [
      "3\n",
      "[[(0, 0), (1, 0), (2, 0)], [(0, 1), (1, 1), (2, 1)], [(0, 2), (1, 2), (2, 2)]]\n",
      "[[(0, 0)]]\n",
      "(0, 0)\n",
      "[[(0, 0)]]\n",
      "(0, 0)\n",
      "[[(0, 0)]]\n",
      "(0, 0)\n",
      "[[(0, 0)]]\n",
      "(0, 0)\n",
      "[[(0, 0)]]\n",
      "(0, 0)\n",
      "[[(0, 0)]]\n",
      "(0, 0)\n",
      "[[(0, 0)]]\n",
      "(0, 0)\n",
      "[[(0, 0)]]\n",
      "(0, 0)\n",
      "[[(0, 0)]]\n",
      "(0, 0)\n",
      "[(0, 0), (0, 0), (0, 0), (0, 0), (0, 0), (0, 0), (0, 0), (0, 0), (0, 0)]\n"
     ]
    }
   ],
   "source": [
    "def stars(n, tmp_list):\n",
    "    idx = [[(w, h) for w in range(n)] for h in range(n)]\n",
    "    print(idx)\n",
    "    for h in idx:\n",
    "        for w in h:\n",
    "            if n == 1:\n",
    "                print( (w[0], w[1]) )\n",
    "                tmp_list.append((w[1],w[1]))\n",
    "            elif (w[0] >= n // 3) and (w[0] <  n // 3) \\\n",
    "                and (w[1] >= n // 3) and (w[1] <  n // 3):\n",
    "                pass\n",
    "            else:\n",
    "                stars(n // 3, tmp_list)\n",
    "    return tmp_list\n",
    "\n",
    "n = int(input())\n",
    "scatch_book_idx = [[(w, h) for w in range(n)] for h in range(n)]\n",
    "scatch_book = [[' ' for w in range(n)] for h in range(n)]\n",
    "empty = []\n",
    "\n",
    "result = stars(n, empty)\n",
    "print(result)"
   ]
  },
  {
   "cell_type": "markdown",
   "id": "055dfaa3",
   "metadata": {},
   "source": [
    "# 하노이 탑 이동 순서"
   ]
  },
  {
   "cell_type": "code",
   "execution_count": 5,
   "id": "72e1c04d",
   "metadata": {},
   "outputs": [
    {
     "name": "stdout",
     "output_type": "stream",
     "text": [
      "3\n",
      "7\n",
      "1 3\n",
      "1 2\n",
      "3 2\n",
      "1 3\n",
      "2 1\n",
      "2 3\n",
      "1 3\n"
     ]
    }
   ],
   "source": [
    "def hanoi(height, start, tmp, end):\n",
    "    if height >= 2:\n",
    "        hanoi(height - 1, start, end, tmp)\n",
    "        print(start, end)\n",
    "        hanoi(height - 1, tmp, start, end)\n",
    "    elif height == 1:\n",
    "        print(start, end)\n",
    "\n",
    "n = int(input())\n",
    "\n",
    "print(2**n - 1) #n of moves\n",
    "hanoi(n, 1, 2, 3)"
   ]
  }
 ],
 "metadata": {
  "kernelspec": {
   "display_name": "Python 3",
   "language": "python",
   "name": "python3"
  },
  "language_info": {
   "codemirror_mode": {
    "name": "ipython",
    "version": 3
   },
   "file_extension": ".py",
   "mimetype": "text/x-python",
   "name": "python",
   "nbconvert_exporter": "python",
   "pygments_lexer": "ipython3",
   "version": "3.7.4"
  }
 },
 "nbformat": 4,
 "nbformat_minor": 5
}
